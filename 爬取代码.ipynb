from selenium import webdriver
from selenium.webdriver.edge.service import Service
from selenium.webdriver.common.by import By
import time
import pandas as pd

# 设定 Edge WebDriver 路径
driver_path = "D:\msedgedriver.exe\msedgedriver.exe"  # 修改为你的实际路径
service = Service(driver_path)
options = webdriver.EdgeOptions()
options.add_argument('--headless')
options.add_argument('--disable-gpu')

# 启动浏览器
driver = webdriver.Edge(service=service, options=options)
driver.get("https://www.tzuqiu.cc/competitions/1/show.do")
time.sleep(5)

# 获取所有表格
tables = driver.find_elements(By.TAG_NAME, "table")

# 选择第二个表格
if len(tables) >= 2:
    table = tables[1]
else:
    raise Exception("没有找到第二个表格")

# 解析表格数据
rows = table.find_elements(By.TAG_NAME, "tr")
data = []
for row in rows:
    cols = row.find_elements(By.TAG_NAME, "td")
    if cols:
        text = [c.text.strip() for c in cols]
        data.append(text)

# 关闭浏览器
driver.quit()

# 打印一行看看列数
print(f"列数：{len(data[0])}，内容预览：{data[0]}")

# 自动生成列名
columns = [f"列{i+1}" for i in range(len(data[0]))]
df = pd.DataFrame(data, columns=columns)

# 保存
df.to_csv("英超.csv", index=False, encoding="utf-8-sig")
print(df.head())