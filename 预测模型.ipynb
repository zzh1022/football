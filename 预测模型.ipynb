import pandas as pd
import numpy as np
from sklearn.model_selection import train_test_split
from sklearn.linear_model import LogisticRegression
from sklearn.ensemble import RandomForestClassifier
from sklearn.metrics import classification_report, confusion_matrix

# 读取数据
df = pd.read_csv(r"D:\pythonProject\英超.csv")  # 使用原始字符串避免转义问题
df.columns = ["排名", "球队", "场次", "胜", "平", "负", "得分", "进球", "失球", "净胜球", "最近5场"]

# 处理缺失值：用0填充数值列，用"Unknown"填充球队名
df.fillna({
    "球队": "Unknown",
    "胜": 0, "平": 0, "负": 0, "得分": 0,
    "进球": 0, "失球": 0, "净胜球": 0
}, inplace=True)

# 生成模拟比赛数据：主队 vs 客队
match_data = []
teams = df["球队"].tolist()

for i in range(len(teams)):
    for j in range(len(teams)):
        if i != j:
            team_home = df.iloc[i]
            team_away = df.iloc[j]

            # 计算胜平负模拟label（真实中应是从真实比赛结果统计）
            if team_home["得分"] > team_away["得分"]:
                label = 2  # 主胜
            elif team_home["得分"] < team_away["得分"]:
                label = 0  # 主负
            else:
                label = 1  # 平局

            match_data.append({
                "主队": team_home["球队"],
                "客队": team_away["球队"],
                "主队_胜": team_home["胜"],
                "客队_胜": team_away["胜"],
                "主队_净胜球": team_home["净胜球"],
                "客队_净胜球": team_away["净胜球"],
                "主队_进球": team_home["进球"],
                "客队_进球": team_away["进球"],
                "主队_得分": team_home["得分"],
                "客队_得分": team_away["得分"],
                "label": label
            })

match_df = pd.DataFrame(match_data)

# 特征和标签
features = match_df.drop(columns=["主队", "客队", "label"])
labels = match_df["label"]

# 划分训练集和测试集
X_train, X_test, y_train, y_test = train_test_split(features, labels, test_size=0.2, random_state=42)

# =====================
# ✅ 逻辑回归模型
# =====================
lr_model = LogisticRegression(max_iter=1000)
lr_model.fit(X_train, y_train)
y_pred_lr = lr_model.predict(X_test)

print("🎯逻辑回归结果：")
print(confusion_matrix(y_test, y_pred_lr))
print(classification_report(y_test, y_pred_lr))

# =====================
# ✅ 随机森林模型
# =====================
rf_model = RandomForestClassifier(n_estimators=100, random_state=42)
rf_model.fit(X_train, y_train)
y_pred_rf = rf_model.predict(X_test)

print("🌲随机森林结果：")
print(confusion_matrix(y_test, y_pred_rf))
print(classification_report(y_test, y_pred_rf))


# 确保最终数据无NaN
match_df.fillna(0, inplace=True)

def predict_single_match(team_home, team_away):
    t1 = df[df["球队"] == team_home].iloc[0]
    t2 = df[df["球队"] == team_away].iloc[0]
    match_features = pd.DataFrame([{
        "主队_胜": t1["胜"],
        "客队_胜": t2["胜"],
        "主队_净胜球": t1["净胜球"],
        "客队_净胜球": t2["净胜球"],
        "主队_进球": t1["进球"],
        "客队_进球": t2["进球"],
        "主队_得分": t1["得分"],
        "客队_得分": t2["得分"]
    }])
    result = rf_model.predict(match_features)[0]
    if result == 2:
        return f"预测：{team_home} 主胜"
    elif result == 1:
        return "预测：平局"
    else:
        return f"预测：{team_home} 主负"

# 示例预测
print(predict_single_match("阿森纳", "热刺"))